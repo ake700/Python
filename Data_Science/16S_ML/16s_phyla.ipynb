{
 "cells": [
  {
   "cell_type": "markdown",
   "id": "be84ff63",
   "metadata": {},
   "source": [
    "# Ensemble method of 16S sequencing data using Random Forest Regressor\n",
    "\n",
    "The data collected here are based on 3 MSc students' 16S sequencing from a gut model called the Simulator of the Human Intestinal Microbial Ecosystem. \n",
    "\n",
    "Some key limitations for this exercise:\n",
    "* Data has not been normalized. Each student collected the data at different timepoints. For the purpose of this exercise, and with the exception of data collected before the experiment (noted as a negative number), all timepoints are sequentially written starting from 0. \n",
    "* Sequencing methods affect the abundance of different taxa, but were ignored for this exercise.\n",
    "* This model is meant to demonstrate a starting point to for the prediction of taxa abundance. Future work is discussed at the end. \n",
    "\n",
    "## Questions of interest\n",
    "\n",
    "1. Which taxa is more associated with change? \n",
    "2. Can we predict changes in the relative abundance of the different taxa over time? \n",
    "3. What would be the best model to use for this dataset?\n",
    "\n",
    "## Steps for this NGS machine learning model\n",
    "\n",
    "1. Load the data\n",
    "    * Note: Since these data were from different projects, they were compiled outside of Python (i.e., using Excel) before being loaded. \n",
    "2. Clean the data\n",
    "3. Exploratory data analysis\n",
    "4. Modelling\n",
    "5. Evaluating the model\n",
    "6. Improving the model\n",
    "7. Conclusion and future work"
   ]
  },
  {
   "cell_type": "code",
   "execution_count": 26,
   "id": "dc6f82e0",
   "metadata": {},
   "outputs": [],
   "source": [
    "%matplotlib inline\n",
    "import pandas as pd\n",
    "import numpy as np\n",
    "import matplotlib.pyplot as plt\n",
    "import seaborn as sns\n",
    "from sklearn.ensemble import RandomForestRegressor\n",
    "from sklearn.model_selection import train_test_split, cross_val_score\n",
    "from sklearn.model_selection import RandomizedSearchCV, GridSearchCV\n",
    "from sklearn.metrics import mean_squared_error"
   ]
  },
  {
   "cell_type": "markdown",
   "id": "6f1b81a9",
   "metadata": {},
   "source": [
    "### 1. Load the data"
   ]
  },
  {
   "cell_type": "code",
   "execution_count": 2,
   "id": "c762b3fa",
   "metadata": {},
   "outputs": [],
   "source": [
    "phyla = pd.read_csv(\"phyla_new.csv\")"
   ]
  },
  {
   "cell_type": "code",
   "execution_count": 3,
   "id": "59f5fe75",
   "metadata": {},
   "outputs": [
    {
     "data": {
      "text/plain": [
       "((825, 11),\n",
       "    Timepoint  Actinobacteria  Bacteroidetes  Desulfobacterota  Firmicutes  \\\n",
       " 0        -10            53.0          420.0               NaN       822.0   \n",
       " 1        -10            55.0          124.0              84.0        28.0   \n",
       " 2        -10            55.0          111.0               NaN      1045.0   \n",
       " 3        -10            82.0          441.0               NaN       900.0   \n",
       " 4        -10            93.0           97.0               NaN       918.0   \n",
       " \n",
       "    Proteobacteria  Acidobacteria  Euryarchaeota  Lentisphaerae  Synergistetes  \\\n",
       " 0             NaN            NaN            NaN            NaN            NaN   \n",
       " 1           185.0            NaN            NaN            NaN            NaN   \n",
       " 2             NaN            NaN            NaN            NaN            NaN   \n",
       " 3             NaN            NaN            NaN            NaN            NaN   \n",
       " 4             NaN            NaN            NaN            NaN            NaN   \n",
       " \n",
       "    Verrucomicrobia  \n",
       " 0              NaN  \n",
       " 1              NaN  \n",
       " 2              NaN  \n",
       " 3              NaN  \n",
       " 4              NaN  )"
      ]
     },
     "execution_count": 3,
     "metadata": {},
     "output_type": "execute_result"
    }
   ],
   "source": [
    "phyla.shape, phyla.head()"
   ]
  },
  {
   "cell_type": "markdown",
   "id": "95bcb668",
   "metadata": {},
   "source": [
    "### 2. Clean the data"
   ]
  },
  {
   "cell_type": "code",
   "execution_count": 4,
   "id": "322ef974",
   "metadata": {},
   "outputs": [
    {
     "data": {
      "text/html": [
       "<div>\n",
       "<style scoped>\n",
       "    .dataframe tbody tr th:only-of-type {\n",
       "        vertical-align: middle;\n",
       "    }\n",
       "\n",
       "    .dataframe tbody tr th {\n",
       "        vertical-align: top;\n",
       "    }\n",
       "\n",
       "    .dataframe thead th {\n",
       "        text-align: right;\n",
       "    }\n",
       "</style>\n",
       "<table border=\"1\" class=\"dataframe\">\n",
       "  <thead>\n",
       "    <tr style=\"text-align: right;\">\n",
       "      <th></th>\n",
       "      <th>time</th>\n",
       "      <th>actinobacteria</th>\n",
       "      <th>bacteroidetes</th>\n",
       "      <th>desulfobacterota</th>\n",
       "      <th>firmicutes</th>\n",
       "      <th>proteobacteria</th>\n",
       "      <th>acidobacteria</th>\n",
       "      <th>euryarchaeota</th>\n",
       "      <th>lentisphaerae</th>\n",
       "      <th>synergistetes</th>\n",
       "      <th>verrucomicrobia</th>\n",
       "    </tr>\n",
       "  </thead>\n",
       "  <tbody>\n",
       "    <tr>\n",
       "      <th>0</th>\n",
       "      <td>-10</td>\n",
       "      <td>53.0</td>\n",
       "      <td>420.0</td>\n",
       "      <td>NaN</td>\n",
       "      <td>822.00000</td>\n",
       "      <td>NaN</td>\n",
       "      <td>NaN</td>\n",
       "      <td>NaN</td>\n",
       "      <td>NaN</td>\n",
       "      <td>NaN</td>\n",
       "      <td>NaN</td>\n",
       "    </tr>\n",
       "    <tr>\n",
       "      <th>1</th>\n",
       "      <td>-10</td>\n",
       "      <td>55.0</td>\n",
       "      <td>124.0</td>\n",
       "      <td>84.0</td>\n",
       "      <td>28.00000</td>\n",
       "      <td>185.00000</td>\n",
       "      <td>NaN</td>\n",
       "      <td>NaN</td>\n",
       "      <td>NaN</td>\n",
       "      <td>NaN</td>\n",
       "      <td>NaN</td>\n",
       "    </tr>\n",
       "    <tr>\n",
       "      <th>2</th>\n",
       "      <td>-10</td>\n",
       "      <td>55.0</td>\n",
       "      <td>111.0</td>\n",
       "      <td>NaN</td>\n",
       "      <td>1045.00000</td>\n",
       "      <td>NaN</td>\n",
       "      <td>NaN</td>\n",
       "      <td>NaN</td>\n",
       "      <td>NaN</td>\n",
       "      <td>NaN</td>\n",
       "      <td>NaN</td>\n",
       "    </tr>\n",
       "    <tr>\n",
       "      <th>3</th>\n",
       "      <td>-10</td>\n",
       "      <td>82.0</td>\n",
       "      <td>441.0</td>\n",
       "      <td>NaN</td>\n",
       "      <td>900.00000</td>\n",
       "      <td>NaN</td>\n",
       "      <td>NaN</td>\n",
       "      <td>NaN</td>\n",
       "      <td>NaN</td>\n",
       "      <td>NaN</td>\n",
       "      <td>NaN</td>\n",
       "    </tr>\n",
       "    <tr>\n",
       "      <th>4</th>\n",
       "      <td>-10</td>\n",
       "      <td>93.0</td>\n",
       "      <td>97.0</td>\n",
       "      <td>NaN</td>\n",
       "      <td>918.00000</td>\n",
       "      <td>NaN</td>\n",
       "      <td>NaN</td>\n",
       "      <td>NaN</td>\n",
       "      <td>NaN</td>\n",
       "      <td>NaN</td>\n",
       "      <td>NaN</td>\n",
       "    </tr>\n",
       "    <tr>\n",
       "      <th>...</th>\n",
       "      <td>...</td>\n",
       "      <td>...</td>\n",
       "      <td>...</td>\n",
       "      <td>...</td>\n",
       "      <td>...</td>\n",
       "      <td>...</td>\n",
       "      <td>...</td>\n",
       "      <td>...</td>\n",
       "      <td>...</td>\n",
       "      <td>...</td>\n",
       "      <td>...</td>\n",
       "    </tr>\n",
       "    <tr>\n",
       "      <th>820</th>\n",
       "      <td>9</td>\n",
       "      <td>NaN</td>\n",
       "      <td>NaN</td>\n",
       "      <td>NaN</td>\n",
       "      <td>2596.00000</td>\n",
       "      <td>NaN</td>\n",
       "      <td>NaN</td>\n",
       "      <td>NaN</td>\n",
       "      <td>NaN</td>\n",
       "      <td>NaN</td>\n",
       "      <td>NaN</td>\n",
       "    </tr>\n",
       "    <tr>\n",
       "      <th>821</th>\n",
       "      <td>9</td>\n",
       "      <td>NaN</td>\n",
       "      <td>NaN</td>\n",
       "      <td>NaN</td>\n",
       "      <td>2186.00000</td>\n",
       "      <td>NaN</td>\n",
       "      <td>NaN</td>\n",
       "      <td>NaN</td>\n",
       "      <td>NaN</td>\n",
       "      <td>NaN</td>\n",
       "      <td>NaN</td>\n",
       "    </tr>\n",
       "    <tr>\n",
       "      <th>822</th>\n",
       "      <td>9</td>\n",
       "      <td>NaN</td>\n",
       "      <td>NaN</td>\n",
       "      <td>NaN</td>\n",
       "      <td>2139.00000</td>\n",
       "      <td>NaN</td>\n",
       "      <td>NaN</td>\n",
       "      <td>NaN</td>\n",
       "      <td>NaN</td>\n",
       "      <td>NaN</td>\n",
       "      <td>NaN</td>\n",
       "    </tr>\n",
       "    <tr>\n",
       "      <th>823</th>\n",
       "      <td>9</td>\n",
       "      <td>NaN</td>\n",
       "      <td>NaN</td>\n",
       "      <td>NaN</td>\n",
       "      <td>61.00000</td>\n",
       "      <td>NaN</td>\n",
       "      <td>NaN</td>\n",
       "      <td>NaN</td>\n",
       "      <td>NaN</td>\n",
       "      <td>NaN</td>\n",
       "      <td>NaN</td>\n",
       "    </tr>\n",
       "    <tr>\n",
       "      <th>824</th>\n",
       "      <td>10</td>\n",
       "      <td>2404.0</td>\n",
       "      <td>39614.5</td>\n",
       "      <td>NaN</td>\n",
       "      <td>26219.16667</td>\n",
       "      <td>15832.83334</td>\n",
       "      <td>10.0</td>\n",
       "      <td>NaN</td>\n",
       "      <td>33.0</td>\n",
       "      <td>8938.833332</td>\n",
       "      <td>3772.333333</td>\n",
       "    </tr>\n",
       "  </tbody>\n",
       "</table>\n",
       "<p>825 rows × 11 columns</p>\n",
       "</div>"
      ],
      "text/plain": [
       "     time  actinobacteria  bacteroidetes  desulfobacterota   firmicutes  \\\n",
       "0     -10            53.0          420.0               NaN    822.00000   \n",
       "1     -10            55.0          124.0              84.0     28.00000   \n",
       "2     -10            55.0          111.0               NaN   1045.00000   \n",
       "3     -10            82.0          441.0               NaN    900.00000   \n",
       "4     -10            93.0           97.0               NaN    918.00000   \n",
       "..    ...             ...            ...               ...          ...   \n",
       "820     9             NaN            NaN               NaN   2596.00000   \n",
       "821     9             NaN            NaN               NaN   2186.00000   \n",
       "822     9             NaN            NaN               NaN   2139.00000   \n",
       "823     9             NaN            NaN               NaN     61.00000   \n",
       "824    10          2404.0        39614.5               NaN  26219.16667   \n",
       "\n",
       "     proteobacteria  acidobacteria  euryarchaeota  lentisphaerae  \\\n",
       "0               NaN            NaN            NaN            NaN   \n",
       "1         185.00000            NaN            NaN            NaN   \n",
       "2               NaN            NaN            NaN            NaN   \n",
       "3               NaN            NaN            NaN            NaN   \n",
       "4               NaN            NaN            NaN            NaN   \n",
       "..              ...            ...            ...            ...   \n",
       "820             NaN            NaN            NaN            NaN   \n",
       "821             NaN            NaN            NaN            NaN   \n",
       "822             NaN            NaN            NaN            NaN   \n",
       "823             NaN            NaN            NaN            NaN   \n",
       "824     15832.83334           10.0            NaN           33.0   \n",
       "\n",
       "     synergistetes  verrucomicrobia  \n",
       "0              NaN              NaN  \n",
       "1              NaN              NaN  \n",
       "2              NaN              NaN  \n",
       "3              NaN              NaN  \n",
       "4              NaN              NaN  \n",
       "..             ...              ...  \n",
       "820            NaN              NaN  \n",
       "821            NaN              NaN  \n",
       "822            NaN              NaN  \n",
       "823            NaN              NaN  \n",
       "824    8938.833332      3772.333333  \n",
       "\n",
       "[825 rows x 11 columns]"
      ]
     },
     "execution_count": 4,
     "metadata": {},
     "output_type": "execute_result"
    }
   ],
   "source": [
    "# Rename columns and switch to lower case\n",
    "\n",
    "def rename_n_lower(df):\n",
    "    df.rename({'Timepoint': 'time'}, axis=1, inplace=True)\n",
    "    df.columns = [x.lower() for x in df.columns]\n",
    "    return df\n",
    "rename_n_lower(phyla)"
   ]
  },
  {
   "cell_type": "code",
   "execution_count": 5,
   "id": "7e9f2da5",
   "metadata": {},
   "outputs": [
    {
     "data": {
      "text/plain": [
       "time                  0\n",
       "actinobacteria      749\n",
       "bacteroidetes       413\n",
       "desulfobacterota    797\n",
       "firmicutes            0\n",
       "proteobacteria      579\n",
       "acidobacteria       813\n",
       "euryarchaeota       814\n",
       "lentisphaerae       793\n",
       "synergistetes       777\n",
       "verrucomicrobia     771\n",
       "dtype: int64"
      ]
     },
     "execution_count": 5,
     "metadata": {},
     "output_type": "execute_result"
    }
   ],
   "source": [
    "# Check for missing values\n",
    "\n",
    "phyla.isna().sum()"
   ]
  },
  {
   "cell_type": "code",
   "execution_count": 6,
   "id": "ea514cb4",
   "metadata": {},
   "outputs": [],
   "source": [
    "# Check for any strings\n",
    "\n",
    "for label, content in phyla.items(): # .items() treats the DF like a dictionary\n",
    "    if pd.api.types.is_string_dtype(content):\n",
    "        print(label)\n",
    "# No string values"
   ]
  },
  {
   "cell_type": "code",
   "execution_count": 7,
   "id": "7bbab4bf",
   "metadata": {},
   "outputs": [],
   "source": [
    "# Turn categorical variables into numbers\n",
    "\n",
    "for label, content in phyla.items():\n",
    "    # Check columns which *aren't* numeric\n",
    "    # if not pd.api.types.is_numeric_dtype(content):\n",
    "        # Add binary column to inidicate whether sample had missing value\n",
    "        phyla[label+\"_is_missing\"] = pd.isnull(content)\n",
    "        # We add the +1 because pandas encodes missing categories as -1\n",
    "        phyla[label] = pd.Categorical(content).codes+1  # turning all non numeric column values into positive values "
   ]
  },
  {
   "cell_type": "markdown",
   "id": "a88a89a1",
   "metadata": {},
   "source": [
    "Let's check that our data has been cleaned properly and that we have no strings in our columns and no null values."
   ]
  },
  {
   "cell_type": "code",
   "execution_count": 9,
   "id": "b71b360c",
   "metadata": {},
   "outputs": [
    {
     "name": "stdout",
     "output_type": "stream",
     "text": [
      "<class 'pandas.core.frame.DataFrame'>\n",
      "RangeIndex: 825 entries, 0 to 824\n",
      "Data columns (total 22 columns):\n",
      " #   Column                       Non-Null Count  Dtype\n",
      "---  ------                       --------------  -----\n",
      " 0   time                         825 non-null    int8 \n",
      " 1   actinobacteria               825 non-null    int8 \n",
      " 2   bacteroidetes                825 non-null    int16\n",
      " 3   desulfobacterota             825 non-null    int8 \n",
      " 4   firmicutes                   825 non-null    int16\n",
      " 5   proteobacteria               825 non-null    int16\n",
      " 6   acidobacteria                825 non-null    int8 \n",
      " 7   euryarchaeota                825 non-null    int8 \n",
      " 8   lentisphaerae                825 non-null    int8 \n",
      " 9   synergistetes                825 non-null    int8 \n",
      " 10  verrucomicrobia              825 non-null    int8 \n",
      " 11  time_is_missing              825 non-null    bool \n",
      " 12  actinobacteria_is_missing    825 non-null    bool \n",
      " 13  bacteroidetes_is_missing     825 non-null    bool \n",
      " 14  desulfobacterota_is_missing  825 non-null    bool \n",
      " 15  firmicutes_is_missing        825 non-null    bool \n",
      " 16  proteobacteria_is_missing    825 non-null    bool \n",
      " 17  acidobacteria_is_missing     825 non-null    bool \n",
      " 18  euryarchaeota_is_missing     825 non-null    bool \n",
      " 19  lentisphaerae_is_missing     825 non-null    bool \n",
      " 20  synergistetes_is_missing     825 non-null    bool \n",
      " 21  verrucomicrobia_is_missing   825 non-null    bool \n",
      "dtypes: bool(11), int16(3), int8(8)\n",
      "memory usage: 20.3 KB\n"
     ]
    },
    {
     "data": {
      "text/plain": [
       "(None,\n",
       " time                           0\n",
       " actinobacteria                 0\n",
       " bacteroidetes                  0\n",
       " desulfobacterota               0\n",
       " firmicutes                     0\n",
       " proteobacteria                 0\n",
       " acidobacteria                  0\n",
       " euryarchaeota                  0\n",
       " lentisphaerae                  0\n",
       " synergistetes                  0\n",
       " verrucomicrobia                0\n",
       " time_is_missing                0\n",
       " actinobacteria_is_missing      0\n",
       " bacteroidetes_is_missing       0\n",
       " desulfobacterota_is_missing    0\n",
       " firmicutes_is_missing          0\n",
       " proteobacteria_is_missing      0\n",
       " acidobacteria_is_missing       0\n",
       " euryarchaeota_is_missing       0\n",
       " lentisphaerae_is_missing       0\n",
       " synergistetes_is_missing       0\n",
       " verrucomicrobia_is_missing     0\n",
       " dtype: int64)"
      ]
     },
     "execution_count": 9,
     "metadata": {},
     "output_type": "execute_result"
    }
   ],
   "source": [
    "phyla.info(), phyla.isna().sum()"
   ]
  },
  {
   "cell_type": "markdown",
   "id": "a8f852c8",
   "metadata": {},
   "source": [
    "### 3. Exploring the data"
   ]
  },
  {
   "cell_type": "code",
   "execution_count": 10,
   "id": "84a73653",
   "metadata": {},
   "outputs": [
    {
     "data": {
      "text/plain": [
       "<AxesSubplot:ylabel='Frequency'>"
      ]
     },
     "execution_count": 10,
     "metadata": {},
     "output_type": "execute_result"
    },
    {
     "data": {
      "image/png": "[encoded data removed]",
      "text/plain": [
       "<Figure size 432x288 with 1 Axes>"
      ]
     },
     "metadata": {
      "needs_background": "light"
     },
     "output_type": "display_data"
    }
   ],
   "source": [
    "phyla[\"bacteroidetes\"].plot.hist()"
   ]
  },
  {
   "cell_type": "code",
   "execution_count": 11,
   "id": "fb1af402",
   "metadata": {},
   "outputs": [
    {
     "data": {
      "image/png": "[encoded data removed]",
      "text/plain": [
       "<Figure size 1440x720 with 1 Axes>"
      ]
     },
     "metadata": {
      "needs_background": "light"
     },
     "output_type": "display_data"
    }
   ],
   "source": [
    "# Let's see relationship of firmicutes (x-axis) and bacteroidetes (y-axis)\n",
    "\n",
    "fig, ax = plt.subplots(figsize=(20,10))\n",
    "ax.scatter(phyla[\"firmicutes\"][:1000], phyla[\"bacteroidetes\"][:1000]) \n",
    "pass"
   ]
  },
  {
   "cell_type": "markdown",
   "id": "36e391cf",
   "metadata": {},
   "source": [
    "Seems that exploring the data might not be the best option after filling in the null values, but let's continue with the modelling"
   ]
  },
  {
   "cell_type": "markdown",
   "id": "2d0fb5e0",
   "metadata": {},
   "source": [
    "### 4. Modelling\n",
    "\n",
    "For this first model, we will be setting the Firmicutes as the target variable as they are the most abundant and it may be interesting to see what features (taxa/time) are most important to the abundance of Firmicutes.\n",
    "\n",
    "**Note**: Before going too far into the exercise, it's always a good idea to create a copy of the dataframe.\n",
    "\n",
    "`df.tmp = df`"
   ]
  },
  {
   "cell_type": "code",
   "execution_count": 12,
   "id": "64e55137",
   "metadata": {},
   "outputs": [],
   "source": [
    "X = phyla.drop(\"firmicutes\", axis=1)\n",
    "\n",
    "y = phyla[\"firmicutes\"].values"
   ]
  },
  {
   "cell_type": "code",
   "execution_count": 13,
   "id": "d91e7f1c",
   "metadata": {},
   "outputs": [],
   "source": [
    "# For reproducibility, set a random seed\n",
    "np.random.seed(25)\n",
    "\n",
    "\n",
    "X_train, X_test, y_train, y_test = train_test_split(X, #independent variables\n",
    "                                                    y, # dependent variable\n",
    "                                                    test_size = 0.2)"
   ]
  },
  {
   "cell_type": "markdown",
   "id": "dc8eadfb",
   "metadata": {},
   "source": [
    "For modelling with validation, there are two options. \n",
    "\n",
    "1. `train, validate, test = np.split(df.sample(frac=1), [int(.6*len(df)), int(.8*len(df))])` to create a 60/20/20 split for train,valid,test set. More info [here](https://stackoverflow.com/questions/38250710/how-to-split-data-into-3-sets-train-validation-and-test/38251213#38251213)\n",
    "\n",
    "2. `X_train, X_valid, y_train, y_valid = train_test_split(X_train, y_train, test_size=0.3)` # 0.3 x 0.2 = 0.06"
   ]
  },
  {
   "cell_type": "code",
   "execution_count": 15,
   "id": "b8af2448",
   "metadata": {},
   "outputs": [
    {
     "data": {
      "text/plain": [
       "((660, 21), (660,), (165, 21), (165,))"
      ]
     },
     "execution_count": 15,
     "metadata": {},
     "output_type": "execute_result"
    }
   ],
   "source": [
    "X_train.shape, y_train.shape, X_test.shape, y_test.shape"
   ]
  },
  {
   "cell_type": "code",
   "execution_count": 17,
   "id": "fd5c3f66",
   "metadata": {},
   "outputs": [
    {
     "name": "stdout",
     "output_type": "stream",
     "text": [
      "CPU times: total: 359 ms\n",
      "Wall time: 139 ms\n"
     ]
    },
    {
     "data": {
      "text/plain": [
       "RandomForestRegressor(n_jobs=-1)"
      ]
     },
     "execution_count": 17,
     "metadata": {},
     "output_type": "execute_result"
    }
   ],
   "source": [
    "%%time\n",
    "\n",
    "model = RandomForestRegressor(n_jobs=-1)\n",
    "\n",
    "model.fit(X_train, y_train)"
   ]
  },
  {
   "cell_type": "markdown",
   "id": "e73ca417",
   "metadata": {},
   "source": [
    "### 5. Evaluating the model"
   ]
  },
  {
   "cell_type": "code",
   "execution_count": 18,
   "id": "208aad72",
   "metadata": {},
   "outputs": [
    {
     "name": "stdout",
     "output_type": "stream",
     "text": [
      "R-squared 0.5208768047010333\n"
     ]
    }
   ],
   "source": [
    "score = model.score(X_train, y_train)\n",
    "print(\"R-squared\", score)"
   ]
  },
  {
   "cell_type": "code",
   "execution_count": 19,
   "id": "9eeb42f9",
   "metadata": {},
   "outputs": [
    {
     "name": "stdout",
     "output_type": "stream",
     "text": [
      "MSE:  13897.847074062718\n",
      "RMSE:  6948.923537031359\n"
     ]
    }
   ],
   "source": [
    "y_pred = model.predict(X_test)\n",
    "mse = mean_squared_error(y_test, y_pred)\n",
    "print(\"MSE: \", mse)\n",
    "print(\"RMSE: \", mse*(1/2.0))"
   ]
  },
  {
   "cell_type": "markdown",
   "id": "e7fcbb73",
   "metadata": {},
   "source": [
    "Based on the R^2 and the MSE, our model is not doing a very good job of predicting. Let's visualize this and see how to improve it. "
   ]
  },
  {
   "cell_type": "code",
   "execution_count": 20,
   "id": "63e22a98",
   "metadata": {},
   "outputs": [
    {
     "data": {
      "image/png": "[encoded data removed]",
      "text/plain": [
       "<Figure size 432x288 with 1 Axes>"
      ]
     },
     "metadata": {
      "needs_background": "light"
     },
     "output_type": "display_data"
    }
   ],
   "source": [
    "x_ax = range(len(y_test))\n",
    "plt.plot(x_ax, y_test, linewidth=1, label=\"original\")\n",
    "plt.plot(x_ax, y_pred, linewidth=1.1, label=\"predicted\")\n",
    "plt.title(\"y-test and y-predicted data\")\n",
    "plt.xlabel('X-axis')\n",
    "plt.ylabel('Y-axis')\n",
    "plt.legend(loc='best',fancybox=True, shadow=True)\n",
    "plt.grid(True)\n",
    "plt.show()"
   ]
  },
  {
   "cell_type": "markdown",
   "id": "87056a09",
   "metadata": {},
   "source": [
    "### 6. Improving the model\n",
    "\n",
    "For this exercise, we'll focus on doing a `RandomizedSearchCV` to tune the hyperparameters."
   ]
  },
  {
   "cell_type": "code",
   "execution_count": 21,
   "id": "d970974f",
   "metadata": {},
   "outputs": [
    {
     "name": "stdout",
     "output_type": "stream",
     "text": [
      "Fitting 5 folds for each of 20 candidates, totalling 100 fits\n",
      "CPU times: total: 6.31 s\n",
      "Wall time: 6.3 s\n"
     ]
    },
    {
     "data": {
      "text/plain": [
       "RandomizedSearchCV(cv=5, estimator=RandomForestRegressor(random_state=25),\n",
       "                   n_iter=20,\n",
       "                   param_distributions={'max_depth': [None, 3, 5, 10],\n",
       "                                        'max_features': [0.5, 1, 'sqrt',\n",
       "                                                         'auto'],\n",
       "                                        'min_samples_leaf': array([ 1,  3,  5,  7,  9, 11, 13, 15, 17, 19]),\n",
       "                                        'min_samples_split': array([ 2,  4,  6,  8, 10, 12, 14, 16, 18]),\n",
       "                                        'n_estimators': array([10, 20, 30, 40, 50, 60, 70, 80, 90])},\n",
       "                   verbose=True)"
      ]
     },
     "execution_count": 21,
     "metadata": {},
     "output_type": "execute_result"
    }
   ],
   "source": [
    "%%time\n",
    "\n",
    "rf_grid = {\"n_estimators\": np.arange(10, 100, 10),\n",
    "           \"max_depth\": [None, 3, 5, 10],\n",
    "           \"min_samples_split\": np.arange(2, 20, 2),\n",
    "           \"min_samples_leaf\": np.arange(1, 20, 2),\n",
    "           \"max_features\": [0.5, 1, \"sqrt\", \"auto\"]}\n",
    "\n",
    "rs_model = RandomizedSearchCV(RandomForestRegressor(random_state=25), #random_state sets like np.random.seed()\n",
    "                              param_distributions=rf_grid,\n",
    "                              n_iter=20,\n",
    "                              cv=5,\n",
    "                              verbose=True)\n",
    "\n",
    "rs_model.fit(X_train, y_train)"
   ]
  },
  {
   "cell_type": "code",
   "execution_count": 22,
   "id": "0eabda2e",
   "metadata": {},
   "outputs": [
    {
     "data": {
      "text/plain": [
       "{'n_estimators': 80,\n",
       " 'min_samples_split': 10,\n",
       " 'min_samples_leaf': 5,\n",
       " 'max_features': 'auto',\n",
       " 'max_depth': None}"
      ]
     },
     "execution_count": 22,
     "metadata": {},
     "output_type": "execute_result"
    }
   ],
   "source": [
    "rs_model.best_params_"
   ]
  },
  {
   "cell_type": "code",
   "execution_count": 23,
   "id": "2fc44c62",
   "metadata": {},
   "outputs": [
    {
     "name": "stdout",
     "output_type": "stream",
     "text": [
      "R-squared 0.3530434319865634\n"
     ]
    }
   ],
   "source": [
    "# Is there an improvement?\n",
    "\n",
    "score2 = rs_model.score(X_train, y_train)\n",
    "print(\"R-squared\", score2)"
   ]
  },
  {
   "cell_type": "markdown",
   "id": "8768fea3",
   "metadata": {},
   "source": [
    "The R^2 value is worse after fitting with the randomized hyperparameters. Let's continue with the ideal parameters and evaluate on that. "
   ]
  },
  {
   "cell_type": "code",
   "execution_count": 24,
   "id": "2b6820a3",
   "metadata": {},
   "outputs": [
    {
     "data": {
      "text/plain": [
       "RandomForestRegressor(min_samples_leaf=5, min_samples_split=10, n_estimators=80,\n",
       "                      n_jobs=-1, random_state=25)"
      ]
     },
     "execution_count": 24,
     "metadata": {},
     "output_type": "execute_result"
    }
   ],
   "source": [
    "ideal_model = RandomForestRegressor(n_estimators=80,\n",
    "                                    min_samples_leaf=5,\n",
    "                                    min_samples_split=10,\n",
    "                                    max_features=\"auto\",\n",
    "                                    max_depth=None,\n",
    "                                    n_jobs=-1,\n",
    "                                    random_state=25, #so the model is reproducible\n",
    "                                    max_samples=None)\n",
    "ideal_model.fit(X_train, y_train)"
   ]
  },
  {
   "cell_type": "code",
   "execution_count": 25,
   "id": "c0f24063",
   "metadata": {},
   "outputs": [
    {
     "name": "stdout",
     "output_type": "stream",
     "text": [
      "R-squared 0.3530434319865635\n",
      "Ideal MSE:  13662.024885302462\n",
      "Ideal RMSE:  6831.012442651231\n"
     ]
    }
   ],
   "source": [
    "score3 = ideal_model.score(X_train, y_train)\n",
    "ideal_y_pred = ideal_model.predict(X_test)\n",
    "\n",
    "ideal_mse = mean_squared_error(y_test, ideal_y_pred)\n",
    "\n",
    "print(\"R-squared\", score3)\n",
    "print(\"Ideal MSE: \", ideal_mse)\n",
    "print(\"Ideal RMSE: \", ideal_mse*(1/2.0))"
   ]
  },
  {
   "cell_type": "markdown",
   "id": "350f3a38",
   "metadata": {},
   "source": [
    "Unfortunately, even the ideal parameters were only a slight improvement on the MSE, and did not improve the R^2.\n",
    "\n",
    "Plot the feature importances to see how they relate to our Firmicutes. "
   ]
  },
  {
   "cell_type": "code",
   "execution_count": 27,
   "id": "5ecd6b14",
   "metadata": {},
   "outputs": [],
   "source": [
    "# Plot the feature importance\n",
    "\n",
    "def plot_features(columns, importances, n=20):\n",
    "    df = (pd.DataFrame({\"features\": columns,\n",
    "                        \"feature_importance\": importances})\n",
    "          .sort_values(\"feature_importance\", ascending=False)\n",
    "          .reset_index(drop=True)) # does pd.DataFrame, .sort_values, and .reset_index all in one; called chaining\n",
    "    sns.set(rc={'figure.figsize':(10,10)})\n",
    "    sns.barplot(x=\"feature_importance\",\n",
    "                y=\"features\",\n",
    "                data=df[:n],\n",
    "                orient=\"h\")"
   ]
  },
  {
   "cell_type": "code",
   "execution_count": 28,
   "id": "67e557c0",
   "metadata": {},
   "outputs": [
    {
     "data": {
      "image/png": "[encoded data removed]",
      "text/plain": [
       "<Figure size 720x720 with 1 Axes>"
      ]
     },
     "metadata": {},
     "output_type": "display_data"
    }
   ],
   "source": [
    "plot_features(X_train.columns, ideal_model.feature_importances_)"
   ]
  },
  {
   "cell_type": "markdown",
   "id": "73e29d37",
   "metadata": {},
   "source": [
    "## 7. Conclusion and future work\n",
    "\n",
    "### Summary\n",
    "\n",
    "Our data seems to be a bit difficult to model, and this may be due to the limitations mentioned above. When looking at the feature importances, it seems that time is the most important variable to the abundance of Firmicutes, followed by the abundance of Bacteroidetes. \n",
    "\n",
    "### Next steps\n",
    "\n",
    "We did not (yet) answer question 2 to see if we can identify the abundance of a phyla given the available data. Perhaps in a next iteration we will split the data into training, validation, and test data to see if we can answer this question. \n",
    "\n",
    "One key metric, used in a previous Kaggle competition, is the calculation of mean squared log error, but there seems to be a dimension problem with the data. Once I've found a solution, I will update this with a better model. \n",
    "\n",
    "That said, there are other models and hyperparameters that can be tested. This is just an exploratory model on the available data and knowledge.  "
   ]
  }
 ],
 "metadata": {
  "kernelspec": {
   "display_name": "Python 3 (ipykernel)",
   "language": "python",
   "name": "python3"
  },
  "language_info": {
   "codemirror_mode": {
    "name": "ipython",
    "version": 3
   },
   "file_extension": ".py",
   "mimetype": "text/x-python",
   "name": "python",
   "nbconvert_exporter": "python",
   "pygments_lexer": "ipython3",
   "version": "3.9.12"
  }
 },
 "nbformat": 4,
 "nbformat_minor": 5
}
